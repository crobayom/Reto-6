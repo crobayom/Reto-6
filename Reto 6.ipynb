{
 "cells": [
  {
   "cell_type": "markdown",
   "metadata": {},
   "source": [
    "### En este notebook de jupyter se mostrara el resultado de completar el reto 6"
   ]
  },
  {
   "cell_type": "markdown",
   "metadata": {},
   "source": [
    "Imprimir un listado con los números del 1 al 100 cada uno con su respectivo cuadrado."
   ]
  },
  {
   "cell_type": "code",
   "execution_count": null,
   "metadata": {},
   "outputs": [],
   "source": [
    "#Aqui se define la funcion que hara la lista\n",
    "def numeros_y_cuadrado()->int:\n",
    " #Aqui se crea una lista de los numeros desde 1 hasta 100\n",
    "    for i in range(1,100+1):\n",
    "        #aqui se escribe el numero vigente de la lista, asi como su cuadrado seaparados por un espacio\n",
    "        print(str(i)+\" \"+str(i**2))\n",
    "if __name__==\"__main__\":\n",
    "   #Aqui se llama la funcion\n",
    "   numeros_y_cuadrado()"
   ]
  },
  {
   "cell_type": "markdown",
   "metadata": {},
   "source": [
    "Imprimir un listado con los números impares desde 1 hasta 999 y seguidamente otro listado con los números pares desde 2 hasta 1000."
   ]
  },
  {
   "cell_type": "code",
   "execution_count": null,
   "metadata": {},
   "outputs": [],
   "source": [
    "#Aqui se define la funcion que creara la lista de numeros impares\n",
    "def numeros_impares()->int:\n",
    "        #Aqui se crea una lista de los numeros desde 1 hasta 1000 con saltos de dos para tomar los impares\n",
    "        for i in range(1, 1000+1, 2):\n",
    "                #Aqui se escribe el numero vigente y se separa entre numero con espacio simple\n",
    "                print(i, end=\" \")\n",
    "#Aqui se define la funcion que creara la lista de numeros pares\n",
    "def numeros_pares()->int:\n",
    "        #Aqui se crea una lista de los numeros desde 2 hasta 1000 con saltos de dos para tomar los pares\n",
    "        for i in range(2, 1000+1, 2):\n",
    "            #Aqui se escribe el numero vigente y se separa entre numero con espacio simple\n",
    "            print(i, end=\" \")\n",
    "#Aqui se define la funcion que recopila ambas listas y las distingue\n",
    "def listas()->int:\n",
    "        numeros_impares()\n",
    "        #Aqui se hace un salto de linea para distinguir entre ambas listas\n",
    "        print(\"\\n\")\n",
    "        numeros_pares()\n",
    "\n",
    "if __name__==\"__main__\":\n",
    "        #Aqui se llama la funcion general\n",
    "        listas()    "
   ]
  },
  {
   "cell_type": "markdown",
   "metadata": {},
   "source": [
    "Imprimir los números pares en forma descendente hasta 2 que son menores o iguales a un número natural n ≥ 2 dado"
   ]
  },
  {
   "cell_type": "code",
   "execution_count": null,
   "metadata": {},
   "outputs": [],
   "source": [
    "#Aqui se define la funcion que dara la lista de numeros pares descendientes desde el numero que ingreso el usuario hasta 2\n",
    "def pares(n:int)->int:\n",
    "    #Aqui se revisa que el tope de la lista sea par para que se puedan dar saltos \"de a dos\" asi simplificando el trabajo (o como dije en el repositorio \"hardcodeando\", sigo pensando que aunque este sea mas optimizado, el otro permite mas control si se necesita editar)\n",
    "    if n%2!=0 : n-=1\n",
    "    #Aqui se crea una lista desde el numero par mas cercano al numero ingresado por el usuario (cercano desde 0) hasta el numero 2 con saltos de 2 negativo, asi permitiendo que sea descendente\n",
    "    for i in range(n, 2-1, -2):\n",
    "        #Aqui se escribe el numero vigente y se separa cada numero por un espacio simple\n",
    "        print(i, end=\" \")\n",
    "\n",
    "if __name__==\"__main__\":\n",
    "    #Aqui se crea una variable que contendra el numero tope de la lista (en este caso el priemro) que sera ingresado por el usuario\n",
    "    n:int=int(input(\"Ingrese el numero maximo de la lista de numeros pares: \"))\n",
    "    pares(n)\n",
    "    "
   ]
  },
  {
   "cell_type": "markdown",
   "metadata": {},
   "source": [
    "Imprimir el factorial de un número natural n dado."
   ]
  },
  {
   "cell_type": "code",
   "execution_count": null,
   "metadata": {},
   "outputs": [],
   "source": [
    "#Aqui se define la funcion que calculara el factorial del numero ingresado por el usuario\n",
    "def factorial(n:int)->int:\n",
    "    #Aqui se crea la variable que tendra el valor del factorial y por tanto recibira las multiplicaciones, se inicializa con 1 en lugar de 0 para que no interrumpa con las multiplicaciones\n",
    "    factorial:int=1\n",
    "    #Aqui se crea una lista desde 1 hasta el numero que ingreso el usuario\n",
    "    for i in range(1,n+1):\n",
    "        #Aqui se multiplica la variable factorial por el numero vigente en la lista\n",
    "        factorial*=i\n",
    "    #Aqui se escribe el resultado de la multiplicacion de cada numero anterior (hasta el 1) del numero ingresado por el usuario\n",
    "    return factorial\n",
    "if __name__==\"__main__\":\n",
    "    #Aqui se crea la variable que tomara el valor maximo de la multiplicacion factorial\n",
    "    n:int=int(input(\"Ingrese el numero del que se quiera obtener el factorial: \"))\n",
    "    #Aqui se llama la funcion factorial dentro de la impresion del mensaje\n",
    "    print(\"El factorial de \"+str(n)+\" es: \"+str(factorial(n)))"
   ]
  },
  {
   "cell_type": "markdown",
   "metadata": {},
   "source": [
    "Implementar un programa que ingrese un número de 2 a 50 y muestre sus divisores."
   ]
  },
  {
   "cell_type": "code",
   "execution_count": null,
   "metadata": {},
   "outputs": [],
   "source": [
    "#Aqui se define la funcion que creara la lista de divisores del numero que el usuario ingrese\n",
    "def divisores(n:int)->int:\n",
    "    #Aqui escribe el preambulo de lo que se mostrara como resultado\n",
    "    print(\"Los divisores de \"+str(n)+\" son: \")\n",
    "    #Aqui se crea la lista de numeros desde 1 hasta el numero que el usuario ingreso\n",
    "    for i in range(1, n+1):\n",
    "        #Aqui se divide el numero del usuario por cada numero vigente de la lista comparandolo con el 0 para decir que es divisor\n",
    "        if n%i==0:\n",
    "            #Aqui se revisa que cuando se cumpla la condicion, esta no sea cumplida por un divisor igual al numero ingresado por el usuario, \n",
    "            # para evitar que al final de la lista aparezca \"numero, numero,\"\n",
    "            if i!=n:\n",
    "                #Aqui si se cumple la condicion anterior se escribira el divisor del numero del usuario con un separador de coma espacio simple\n",
    "                print(i, end=\", \")\n",
    "            else:\n",
    "                #Aqui si la variable que recorre el arreglo es igual al numero del usuario se imprime el divisor y se corrige la finalizacion de la lista\n",
    "                print(i, end=\".\")\n",
    "\n",
    "                \n",
    "\n",
    "if __name__==\"__main__\":\n",
    "    n:int=int(input(\"Ingrese un numero entre 2 y 50: \"))\n",
    "    divisores(n)\n",
    "    "
   ]
  },
  {
   "cell_type": "markdown",
   "metadata": {},
   "source": [
    "Implementar el algoritmo que muestre los números primos del 1 al 100. Nota: use funciones"
   ]
  },
  {
   "cell_type": "code",
   "execution_count": 59,
   "metadata": {},
   "outputs": [
    {
     "name": "stdout",
     "output_type": "stream",
     "text": [
      "Los numeros primos entre 1 y 100 son: \n",
      "2 3 5 7 11 13 17 19 23 29 31 37 41 43 47 53 59 61 67 71 73 79 83 89 97 "
     ]
    }
   ],
   "source": [
    "#Aqui se define la funcion que creara la lista de numeros primos\n",
    "def primos()->int:\n",
    "    #Aqui se define la variable inicial que contara los divisores para cada numero en la proxima lista\n",
    "    divisores:int=0\n",
    "    #Aqui se creara la lista de numeros desde 2 hasta 100 (desde 2 porque el 1 no es un primo), sobre los cuales se definiran los que sean primos\n",
    "    for i in range(2,100+1):\n",
    "        #Aqui se incializa en 0 el contador de divisores para cada numero de la lista\n",
    "        divisores=0\n",
    "        #Aqui se creara la lista de numeros que dividiran a cada numero a verificar por ser primo, \n",
    "        #estando esta entre 2 hasta y uno anterior al numero a verificar vigente\n",
    "        for j in range(2,i):\n",
    "            #Aqui se verifica que algun numero vigente en esta \"mini lista\" pueda dividir sin residuo al numero vigente en la \"macrolista\" de numeros a verificar\n",
    "            if i%j==0:\n",
    "                #Aqui si se cumple la condicion anterior, se agrega uno a la cuenta de divisores que tiene el numero vigente de la \"macrolistas\" de numeros a verificar\n",
    "                divisores+=1\n",
    "        #Aqui se verifica que el numero vigente de la \"macrolista\" no haya tenido divisores de la \"minilista\"\n",
    "        if divisores==0:\n",
    "            #Aqui si se cumple la condicion anterior, se escribira el numero vigente de la macrolista, indicando que este es un numero primo (con una separacion de un espacio simple)\n",
    "            print(i, end=\" \")\n",
    "\n",
    "                       \n",
    "if __name__==\"__main__\":\n",
    "    #Aqui se escribe lo previo al resultado de la lsita de primos\n",
    "    print(\"Los numeros primos entre 1 y 100 son: \")\n",
    "    #Aqui se llama la funcion primos\n",
    "    primos()"
   ]
  }
 ],
 "metadata": {
  "kernelspec": {
   "display_name": "Python 3",
   "language": "python",
   "name": "python3"
  },
  "language_info": {
   "codemirror_mode": {
    "name": "ipython",
    "version": 3
   },
   "file_extension": ".py",
   "mimetype": "text/x-python",
   "name": "python",
   "nbconvert_exporter": "python",
   "pygments_lexer": "ipython3",
   "version": "3.13.1"
  }
 },
 "nbformat": 4,
 "nbformat_minor": 2
}
